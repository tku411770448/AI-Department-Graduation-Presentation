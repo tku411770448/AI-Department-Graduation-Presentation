{
  "cells": [
    {
      "cell_type": "markdown",
      "metadata": {
        "id": "6UObwTjDt3eV"
      },
      "source": [
        "### <font color = aqua>Notice"
      ]
    },
    {
      "cell_type": "code",
      "execution_count": 45,
      "metadata": {
        "id": "rKuTDWAUt3eW"
      },
      "outputs": [],
      "source": [
        "# Conv [64, 3, 2] means [Output Channels = 64, Kernel Size = 3, Stride = 2]"
      ]
    },
    {
      "cell_type": "markdown",
      "metadata": {
        "id": "IcpwqMHxt3eW"
      },
      "source": [
        "### <font color = aqua>YOLOv9 Architecture"
      ]
    },
    {
      "cell_type": "markdown",
      "metadata": {
        "id": "DVrasjVMt3eW"
      },
      "source": [
        "<img src=\"yolov9_Architecture.png\" width=\"1000\" height=\"1000\">"
      ]
    },
    {
      "cell_type": "markdown",
      "metadata": {
        "id": "5yYRKtnjt3eX"
      },
      "source": [
        "### <font color = aqua>Import and Define"
      ]
    },
    {
      "cell_type": "code",
      "execution_count": 46,
      "metadata": {
        "id": "Wwf0qEant3eX"
      },
      "outputs": [],
      "source": [
        "import torch\n",
        "import torch.nn as nn\n",
        "import ast\n",
        "import contextlib\n",
        "import json\n",
        "import math\n",
        "import platform\n",
        "import warnings\n",
        "import zipfile\n",
        "from collections import OrderedDict, namedtuple\n",
        "from copy import copy\n",
        "from pathlib import Path\n",
        "from urllib.parse import urlparse\n",
        "\n",
        "from typing import Optional\n",
        "\n",
        "import cv2\n",
        "import numpy as np\n",
        "import pandas as pd\n",
        "import requests\n",
        "import torch\n",
        "import torch.nn as nn\n",
        "from IPython.display import display\n",
        "from PIL import Image\n",
        "from torch.cuda import amp\n",
        "\n",
        "# from utils import TryExcept\n",
        "# from utils.dataloaders import exif_transpose, letterbox\n",
        "# from utils.general import (LOGGER, ROOT, Profile, check_requirements, check_suffix, check_version, colorstr,\n",
        "#                            increment_path, is_notebook, make_divisible, non_max_suppression, scale_boxes,\n",
        "#                            xywh2xyxy, xyxy2xywh, yaml_load)\n",
        "# from utils.plots import Annotator, colors, save_one_box\n",
        "# from utils.torch_utils import copy_attr, smart_inference_mode\n",
        "\n",
        "\n",
        "def autopad(k, p=None, d=1):  # kernel, padding, dilation\n",
        "    # Pad to 'same' shape outputs\n",
        "    if d > 1:\n",
        "        k = d * (k - 1) + 1 if isinstance(k, int) else [d * (x - 1) + 1 for x in k]  # actual kernel-size\n",
        "    if p is None:\n",
        "        p = k // 2 if isinstance(k, int) else [x // 2 for x in k]  # auto-pad\n",
        "    return p\n",
        "\n",
        "\n",
        "class Conv(nn.Module):\n",
        "    # Standard convolution with args(ch_in, ch_out, kernel, stride, padding, groups, dilation, activation)\n",
        "    default_act = nn.SiLU()  # default activation\n",
        "\n",
        "    def __init__(self, c1, c2, k=1, s=1, p=None, g=1, d=1, act=True):\n",
        "        super().__init__()\n",
        "        self.conv = nn.Conv2d(c1, c2, k, s, autopad(k, p, d), groups=g, dilation=d, bias=False)\n",
        "        self.bn = nn.BatchNorm2d(c2)\n",
        "        self.act = self.default_act if act is True else act if isinstance(act, nn.Module) else nn.Identity()\n",
        "\n",
        "    def forward(self, x):\n",
        "        return self.act(self.bn(self.conv(x)))\n",
        "\n",
        "    def forward_fuse(self, x):\n",
        "        return self.act(self.conv(x))\n",
        "\n",
        "\n",
        "class AConv(nn.Module):\n",
        "    def __init__(self, c1, c2):  # ch_in, ch_out, shortcut, kernels, groups, expand\n",
        "        super().__init__()\n",
        "        self.cv1 = Conv(c1, c2, 3, 2, 1)\n",
        "\n",
        "    def forward(self, x):\n",
        "        x = torch.nn.functional.avg_pool2d(x, 2, 1, 0, False, True)\n",
        "        return self.cv1(x)\n",
        "\n",
        "\n",
        "class ADown(nn.Module):\n",
        "    def __init__(self, c1, c2):  # ch_in, ch_out, shortcut, kernels, groups, expand\n",
        "        super().__init__()\n",
        "        self.c = c2 // 2\n",
        "        self.cv1 = Conv(c1 // 2, self.c, 3, 2, 1)\n",
        "        self.cv2 = Conv(c1 // 2, self.c, 1, 1, 0)\n",
        "\n",
        "    def forward(self, x):\n",
        "        x = torch.nn.functional.avg_pool2d(x, 2, 1, 0, False, True)\n",
        "        x1,x2 = x.chunk(2, 1)\n",
        "        x1 = self.cv1(x1)\n",
        "        x2 = torch.nn.functional.max_pool2d(x2, 3, 2, 1)\n",
        "        x2 = self.cv2(x2)\n",
        "        return torch.cat((x1, x2), 1)\n",
        "\n",
        "\n",
        "class RepConvN(nn.Module):\n",
        "    \"\"\"RepConv is a basic rep-style block, including training and deploy status\n",
        "    This code is based on https://github.com/DingXiaoH/RepVGG/blob/main/repvgg.py\n",
        "    \"\"\"\n",
        "    default_act = nn.SiLU()  # default activation\n",
        "\n",
        "    def __init__(self, c1, c2, k=3, s=1, p=1, g=1, d=1, act=True, bn=False, deploy=False):\n",
        "        super().__init__()\n",
        "        assert k == 3 and p == 1\n",
        "        self.g = g\n",
        "        self.c1 = c1\n",
        "        self.c2 = c2\n",
        "        self.act = self.default_act if act is True else act if isinstance(act, nn.Module) else nn.Identity()\n",
        "\n",
        "        self.bn = None\n",
        "        self.conv1 = Conv(c1, c2, k, s, p=p, g=g, act=False)\n",
        "        self.conv2 = Conv(c1, c2, 1, s, p=(p - k // 2), g=g, act=False)\n",
        "\n",
        "    def forward_fuse(self, x):\n",
        "        \"\"\"Forward process\"\"\"\n",
        "        return self.act(self.conv(x))\n",
        "\n",
        "    def forward(self, x):\n",
        "        \"\"\"Forward process\"\"\"\n",
        "        id_out = 0 if self.bn is None else self.bn(x)\n",
        "        return self.act(self.conv1(x) + self.conv2(x) + id_out)\n",
        "\n",
        "    def get_equivalent_kernel_bias(self):\n",
        "        kernel3x3, bias3x3 = self._fuse_bn_tensor(self.conv1)\n",
        "        kernel1x1, bias1x1 = self._fuse_bn_tensor(self.conv2)\n",
        "        kernelid, biasid = self._fuse_bn_tensor(self.bn)\n",
        "        return kernel3x3 + self._pad_1x1_to_3x3_tensor(kernel1x1) + kernelid, bias3x3 + bias1x1 + biasid\n",
        "\n",
        "    def _avg_to_3x3_tensor(self, avgp):\n",
        "        channels = self.c1\n",
        "        groups = self.g\n",
        "        kernel_size = avgp.kernel_size\n",
        "        input_dim = channels // groups\n",
        "        k = torch.zeros((channels, input_dim, kernel_size, kernel_size))\n",
        "        k[np.arange(channels), np.tile(np.arange(input_dim), groups), :, :] = 1.0 / kernel_size ** 2\n",
        "        return k\n",
        "\n",
        "    def _pad_1x1_to_3x3_tensor(self, kernel1x1):\n",
        "        if kernel1x1 is None:\n",
        "            return 0\n",
        "        else:\n",
        "            return torch.nn.functional.pad(kernel1x1, [1, 1, 1, 1])\n",
        "\n",
        "    def _fuse_bn_tensor(self, branch):\n",
        "        if branch is None:\n",
        "            return 0, 0\n",
        "        if isinstance(branch, Conv):\n",
        "            kernel = branch.conv.weight\n",
        "            running_mean = branch.bn.running_mean\n",
        "            running_var = branch.bn.running_var\n",
        "            gamma = branch.bn.weight\n",
        "            beta = branch.bn.bias\n",
        "            eps = branch.bn.eps\n",
        "        elif isinstance(branch, nn.BatchNorm2d):\n",
        "            if not hasattr(self, 'id_tensor'):\n",
        "                input_dim = self.c1 // self.g\n",
        "                kernel_value = np.zeros((self.c1, input_dim, 3, 3), dtype=np.float32)\n",
        "                for i in range(self.c1):\n",
        "                    kernel_value[i, i % input_dim, 1, 1] = 1\n",
        "                self.id_tensor = torch.from_numpy(kernel_value).to(branch.weight.device)\n",
        "            kernel = self.id_tensor\n",
        "            running_mean = branch.running_mean\n",
        "            running_var = branch.running_var\n",
        "            gamma = branch.weight\n",
        "            beta = branch.bias\n",
        "            eps = branch.eps\n",
        "        std = (running_var + eps).sqrt()\n",
        "        t = (gamma / std).reshape(-1, 1, 1, 1)\n",
        "        return kernel * t, beta - running_mean * gamma / std\n",
        "\n",
        "    def fuse_convs(self):\n",
        "        if hasattr(self, 'conv'):\n",
        "            return\n",
        "        kernel, bias = self.get_equivalent_kernel_bias()\n",
        "        self.conv = nn.Conv2d(in_channels=self.conv1.conv.in_channels,\n",
        "                              out_channels=self.conv1.conv.out_channels,\n",
        "                              kernel_size=self.conv1.conv.kernel_size,\n",
        "                              stride=self.conv1.conv.stride,\n",
        "                              padding=self.conv1.conv.padding,\n",
        "                              dilation=self.conv1.conv.dilation,\n",
        "                              groups=self.conv1.conv.groups,\n",
        "                              bias=True).requires_grad_(False)\n",
        "        self.conv.weight.data = kernel\n",
        "        self.conv.bias.data = bias\n",
        "        for para in self.parameters():\n",
        "            para.detach_()\n",
        "        self.__delattr__('conv1')\n",
        "        self.__delattr__('conv2')\n",
        "        if hasattr(self, 'nm'):\n",
        "            self.__delattr__('nm')\n",
        "        if hasattr(self, 'bn'):\n",
        "            self.__delattr__('bn')\n",
        "        if hasattr(self, 'id_tensor'):\n",
        "            self.__delattr__('id_tensor')\n",
        "\n",
        "\n",
        "class SP(nn.Module):\n",
        "    def __init__(self, k=3, s=1):\n",
        "        super(SP, self).__init__()\n",
        "        self.m = nn.MaxPool2d(kernel_size=k, stride=s, padding=k // 2)\n",
        "\n",
        "    def forward(self, x):\n",
        "        return self.m(x)\n",
        "\n",
        "\n",
        "class MP(nn.Module):\n",
        "    # Max pooling\n",
        "    def __init__(self, k=2):\n",
        "        super(MP, self).__init__()\n",
        "        self.m = nn.MaxPool2d(kernel_size=k, stride=k)\n",
        "\n",
        "    def forward(self, x):\n",
        "        return self.m(x)\n",
        "\n",
        "\n",
        "class ConvTranspose(nn.Module):\n",
        "    # Convolution transpose 2d layer\n",
        "    default_act = nn.SiLU()  # default activation\n",
        "\n",
        "    def __init__(self, c1, c2, k=2, s=2, p=0, bn=True, act=True):\n",
        "        super().__init__()\n",
        "        self.conv_transpose = nn.ConvTranspose2d(c1, c2, k, s, p, bias=not bn)\n",
        "        self.bn = nn.BatchNorm2d(c2) if bn else nn.Identity()\n",
        "        self.act = self.default_act if act is True else act if isinstance(act, nn.Module) else nn.Identity()\n",
        "\n",
        "    def forward(self, x):\n",
        "        return self.act(self.bn(self.conv_transpose(x)))\n",
        "\n",
        "\n",
        "class DWConv(Conv):\n",
        "    # Depth-wise convolution\n",
        "    def __init__(self, c1, c2, k=1, s=1, d=1, act=True):  # ch_in, ch_out, kernel, stride, dilation, activation\n",
        "        super().__init__(c1, c2, k, s, g=math.gcd(c1, c2), d=d, act=act)\n",
        "\n",
        "\n",
        "class DWConvTranspose2d(nn.ConvTranspose2d):\n",
        "    # Depth-wise transpose convolution\n",
        "    def __init__(self, c1, c2, k=1, s=1, p1=0, p2=0):  # ch_in, ch_out, kernel, stride, padding, padding_out\n",
        "        super().__init__(c1, c2, k, s, p1, p2, groups=math.gcd(c1, c2))\n",
        "\n",
        "\n",
        "class DFL(nn.Module):\n",
        "    # DFL module\n",
        "    def __init__(self, c1=17):\n",
        "        super().__init__()\n",
        "        self.conv = nn.Conv2d(c1, 1, 1, bias=False).requires_grad_(False)\n",
        "        self.conv.weight.data[:] = nn.Parameter(torch.arange(c1, dtype=torch.float).view(1, c1, 1, 1)) # / 120.0\n",
        "        self.c1 = c1\n",
        "        # self.bn = nn.BatchNorm2d(4)\n",
        "\n",
        "    def forward(self, x):\n",
        "        b, c, a = x.shape  # batch, channels, anchors\n",
        "        return self.conv(x.view(b, 4, self.c1, a).transpose(2, 1).softmax(1)).view(b, 4, a)\n",
        "        # return self.conv(x.view(b, self.c1, 4, a).softmax(1)).view(b, 4, a)\n",
        "\n",
        "\n",
        "class BottleneckBase(nn.Module):\n",
        "    # Standard bottleneck\n",
        "    def __init__(self, c1, c2, shortcut=True, g=1, k=(1, 3), e=0.5):  # ch_in, ch_out, shortcut, kernels, groups, expand\n",
        "        super().__init__()\n",
        "        c_ = int(c2 * e)  # hidden channels\n",
        "        self.cv1 = Conv(c1, c_, k[0], 1)\n",
        "        self.cv2 = Conv(c_, c2, k[1], 1, g=g)\n",
        "        self.add = shortcut and c1 == c2\n",
        "\n",
        "    def forward(self, x):\n",
        "        return x + self.cv2(self.cv1(x)) if self.add else self.cv2(self.cv1(x))\n",
        "\n",
        "\n",
        "class RBottleneckBase(nn.Module):\n",
        "    # Standard bottleneck\n",
        "    def __init__(self, c1, c2, shortcut=True, g=1, k=(3, 1), e=0.5):  # ch_in, ch_out, shortcut, kernels, groups, expand\n",
        "        super().__init__()\n",
        "        c_ = int(c2 * e)  # hidden channels\n",
        "        self.cv1 = Conv(c1, c_, k[0], 1)\n",
        "        self.cv2 = Conv(c_, c2, k[1], 1, g=g)\n",
        "        self.add = shortcut and c1 == c2\n",
        "\n",
        "    def forward(self, x):\n",
        "        return x + self.cv2(self.cv1(x)) if self.add else self.cv2(self.cv1(x))\n",
        "\n",
        "\n",
        "class RepNRBottleneckBase(nn.Module):\n",
        "    # Standard bottleneck\n",
        "    def __init__(self, c1, c2, shortcut=True, g=1, k=(3, 1), e=0.5):  # ch_in, ch_out, shortcut, kernels, groups, expand\n",
        "        super().__init__()\n",
        "        c_ = int(c2 * e)  # hidden channels\n",
        "        self.cv1 = RepConvN(c1, c_, k[0], 1)\n",
        "        self.cv2 = Conv(c_, c2, k[1], 1, g=g)\n",
        "        self.add = shortcut and c1 == c2\n",
        "\n",
        "    def forward(self, x):\n",
        "        return x + self.cv2(self.cv1(x)) if self.add else self.cv2(self.cv1(x))\n",
        "\n",
        "\n",
        "class Bottleneck(nn.Module):\n",
        "    # Standard bottleneck\n",
        "    def __init__(self, c1, c2, shortcut=True, g=1, k=(3, 3), e=0.5):  # ch_in, ch_out, shortcut, kernels, groups, expand\n",
        "        super().__init__()\n",
        "        c_ = int(c2 * e)  # hidden channels\n",
        "        self.cv1 = Conv(c1, c_, k[0], 1)\n",
        "        self.cv2 = Conv(c_, c2, k[1], 1, g=g)\n",
        "        self.add = shortcut and c1 == c2\n",
        "\n",
        "    def forward(self, x):\n",
        "        return x + self.cv2(self.cv1(x)) if self.add else self.cv2(self.cv1(x))\n",
        "\n",
        "\n",
        "class RepNBottleneck(nn.Module):\n",
        "    # Standard bottleneck\n",
        "    def __init__(self, c1, c2, shortcut=True, g=1, k=(3, 3), e=0.5):  # ch_in, ch_out, shortcut, kernels, groups, expand\n",
        "        super().__init__()\n",
        "        c_ = int(c2 * e)  # hidden channels\n",
        "        self.cv1 = RepConvN(c1, c_, k[0], 1)\n",
        "        self.cv2 = Conv(c_, c2, k[1], 1, g=g)\n",
        "        self.add = shortcut and c1 == c2\n",
        "\n",
        "    def forward(self, x):\n",
        "        return x + self.cv2(self.cv1(x)) if self.add else self.cv2(self.cv1(x))\n",
        "\n",
        "\n",
        "class Res(nn.Module):\n",
        "    # ResNet bottleneck\n",
        "    def __init__(self, c1, c2, shortcut=True, g=1, e=0.5):  # ch_in, ch_out, shortcut, groups, expansion\n",
        "        super(Res, self).__init__()\n",
        "        c_ = int(c2 * e)  # hidden channels\n",
        "        self.cv1 = Conv(c1, c_, 1, 1)\n",
        "        self.cv2 = Conv(c_, c_, 3, 1, g=g)\n",
        "        self.cv3 = Conv(c_, c2, 1, 1)\n",
        "        self.add = shortcut and c1 == c2\n",
        "\n",
        "    def forward(self, x):\n",
        "        return x + self.cv3(self.cv2(self.cv1(x))) if self.add else self.cv3(self.cv2(self.cv1(x)))\n",
        "\n",
        "\n",
        "class RepNRes(nn.Module):\n",
        "    # ResNet bottleneck\n",
        "    def __init__(self, c1, c2, shortcut=True, g=1, e=0.5):  # ch_in, ch_out, shortcut, groups, expansion\n",
        "        super(RepNRes, self).__init__()\n",
        "        c_ = int(c2 * e)  # hidden channels\n",
        "        self.cv1 = Conv(c1, c_, 1, 1)\n",
        "        self.cv2 = RepConvN(c_, c_, 3, 1, g=g)\n",
        "        self.cv3 = Conv(c_, c2, 1, 1)\n",
        "        self.add = shortcut and c1 == c2\n",
        "\n",
        "    def forward(self, x):\n",
        "        return x + self.cv3(self.cv2(self.cv1(x))) if self.add else self.cv3(self.cv2(self.cv1(x)))\n",
        "\n",
        "\n",
        "class BottleneckCSP(nn.Module):\n",
        "    # CSP Bottleneck https://github.com/WongKinYiu/CrossStagePartialNetworks\n",
        "    def __init__(self, c1, c2, n=1, shortcut=True, g=1, e=0.5):  # ch_in, ch_out, number, shortcut, groups, expansion\n",
        "        super().__init__()\n",
        "        c_ = int(c2 * e)  # hidden channels\n",
        "        self.cv1 = Conv(c1, c_, 1, 1)\n",
        "        self.cv2 = nn.Conv2d(c1, c_, 1, 1, bias=False)\n",
        "        self.cv3 = nn.Conv2d(c_, c_, 1, 1, bias=False)\n",
        "        self.cv4 = Conv(2 * c_, c2, 1, 1)\n",
        "        self.bn = nn.BatchNorm2d(2 * c_)  # applied to cat(cv2, cv3)\n",
        "        self.act = nn.SiLU()\n",
        "        self.m = nn.Sequential(*(Bottleneck(c_, c_, shortcut, g, e=1.0) for _ in range(n)))\n",
        "\n",
        "    def forward(self, x):\n",
        "        y1 = self.cv3(self.m(self.cv1(x)))\n",
        "        y2 = self.cv2(x)\n",
        "        return self.cv4(self.act(self.bn(torch.cat((y1, y2), 1))))\n",
        "\n",
        "\n",
        "class CSP(nn.Module):\n",
        "    # CSP Bottleneck with 3 convolutions\n",
        "    def __init__(self, c1, c2, n=1, shortcut=True, g=1, e=0.5):  # ch_in, ch_out, number, shortcut, groups, expansion\n",
        "        super().__init__()\n",
        "        c_ = int(c2 * e)  # hidden channels\n",
        "        self.cv1 = Conv(c1, c_, 1, 1)\n",
        "        self.cv2 = Conv(c1, c_, 1, 1)\n",
        "        self.cv3 = Conv(2 * c_, c2, 1)  # optional act=FReLU(c2)\n",
        "        self.m = nn.Sequential(*(Bottleneck(c_, c_, shortcut, g, e=1.0) for _ in range(n)))\n",
        "\n",
        "    def forward(self, x):\n",
        "        return self.cv3(torch.cat((self.m(self.cv1(x)), self.cv2(x)), 1))\n",
        "\n",
        "\n",
        "class RepNCSP(nn.Module):\n",
        "    # CSP Bottleneck with 3 convolutions\n",
        "    def __init__(self, c1, c2, n=1, shortcut=True, g=1, e=0.5):  # ch_in, ch_out, number, shortcut, groups, expansion\n",
        "        super().__init__()\n",
        "        c_ = int(c2 * e)  # hidden channels\n",
        "        self.cv1 = Conv(c1, c_, 1, 1)\n",
        "        self.cv2 = Conv(c1, c_, 1, 1)\n",
        "        self.cv3 = Conv(2 * c_, c2, 1)  # optional act=FReLU(c2)\n",
        "        self.m = nn.Sequential(*(RepNBottleneck(c_, c_, shortcut, g, e=1.0) for _ in range(n)))\n",
        "\n",
        "    def forward(self, x):\n",
        "        return self.cv3(torch.cat((self.m(self.cv1(x)), self.cv2(x)), 1))\n",
        "\n",
        "\n",
        "class CSPBase(nn.Module):\n",
        "    # CSP Bottleneck with 3 convolutions\n",
        "    def __init__(self, c1, c2, n=1, shortcut=True, g=1, e=0.5):  # ch_in, ch_out, number, shortcut, groups, expansion\n",
        "        super().__init__()\n",
        "        c_ = int(c2 * e)  # hidden channels\n",
        "        self.cv1 = Conv(c1, c_, 1, 1)\n",
        "        self.cv2 = Conv(c1, c_, 1, 1)\n",
        "        self.cv3 = Conv(2 * c_, c2, 1)  # optional act=FReLU(c2)\n",
        "        self.m = nn.Sequential(*(BottleneckBase(c_, c_, shortcut, g, e=1.0) for _ in range(n)))\n",
        "\n",
        "    def forward(self, x):\n",
        "        return self.cv3(torch.cat((self.m(self.cv1(x)), self.cv2(x)), 1))\n",
        "\n",
        "\n",
        "class SPP(nn.Module):\n",
        "    # Spatial Pyramid Pooling (SPP) layer https://arxiv.org/abs/1406.4729\n",
        "    def __init__(self, c1, c2, k=(5, 9, 13)):\n",
        "        super().__init__()\n",
        "        c_ = c1 // 2  # hidden channels\n",
        "        self.cv1 = Conv(c1, c_, 1, 1)\n",
        "        self.cv2 = Conv(c_ * (len(k) + 1), c2, 1, 1)\n",
        "        self.m = nn.ModuleList([nn.MaxPool2d(kernel_size=x, stride=1, padding=x // 2) for x in k])\n",
        "\n",
        "    def forward(self, x):\n",
        "        x = self.cv1(x)\n",
        "        with warnings.catch_warnings():\n",
        "            warnings.simplefilter('ignore')  # suppress torch 1.9.0 max_pool2d() warning\n",
        "            return self.cv2(torch.cat([x] + [m(x) for m in self.m], 1))\n",
        "\n",
        "\n",
        "class ASPP(torch.nn.Module):\n",
        "\n",
        "    def __init__(self, in_channels, out_channels):\n",
        "        super().__init__()\n",
        "        kernel_sizes = [1, 3, 3, 1]\n",
        "        dilations = [1, 3, 6, 1]\n",
        "        paddings = [0, 3, 6, 0]\n",
        "        self.aspp = torch.nn.ModuleList()\n",
        "        for aspp_idx in range(len(kernel_sizes)):\n",
        "            conv = torch.nn.Conv2d(\n",
        "                in_channels,\n",
        "                out_channels,\n",
        "                kernel_size=kernel_sizes[aspp_idx],\n",
        "                stride=1,\n",
        "                dilation=dilations[aspp_idx],\n",
        "                padding=paddings[aspp_idx],\n",
        "                bias=True)\n",
        "            self.aspp.append(conv)\n",
        "        self.gap = torch.nn.AdaptiveAvgPool2d(1)\n",
        "        self.aspp_num = len(kernel_sizes)\n",
        "        for m in self.modules():\n",
        "            if isinstance(m, torch.nn.Conv2d):\n",
        "                n = m.kernel_size[0] * m.kernel_size[1] * m.out_channels\n",
        "                m.weight.data.normal_(0, math.sqrt(2. / n))\n",
        "                m.bias.data.fill_(0)\n",
        "\n",
        "    def forward(self, x):\n",
        "        avg_x = self.gap(x)\n",
        "        out = []\n",
        "        for aspp_idx in range(self.aspp_num):\n",
        "            inp = avg_x if (aspp_idx == self.aspp_num - 1) else x\n",
        "            out.append(F.relu_(self.aspp[aspp_idx](inp)))\n",
        "        out[-1] = out[-1].expand_as(out[-2])\n",
        "        out = torch.cat(out, dim=1)\n",
        "        return out\n",
        "\n",
        "\n",
        "class SPPCSPC(nn.Module):\n",
        "    # CSP SPP https://github.com/WongKinYiu/CrossStagePartialNetworks\n",
        "    def __init__(self, c1, c2, n=1, shortcut=False, g=1, e=0.5, k=(5, 9, 13)):\n",
        "        super(SPPCSPC, self).__init__()\n",
        "        c_ = int(2 * c2 * e)  # hidden channels\n",
        "        self.cv1 = Conv(c1, c_, 1, 1)\n",
        "        self.cv2 = Conv(c1, c_, 1, 1)\n",
        "        self.cv3 = Conv(c_, c_, 3, 1)\n",
        "        self.cv4 = Conv(c_, c_, 1, 1)\n",
        "        self.m = nn.ModuleList([nn.MaxPool2d(kernel_size=x, stride=1, padding=x // 2) for x in k])\n",
        "        self.cv5 = Conv(4 * c_, c_, 1, 1)\n",
        "        self.cv6 = Conv(c_, c_, 3, 1)\n",
        "        self.cv7 = Conv(2 * c_, c2, 1, 1)\n",
        "\n",
        "    def forward(self, x):\n",
        "        x1 = self.cv4(self.cv3(self.cv1(x)))\n",
        "        y1 = self.cv6(self.cv5(torch.cat([x1] + [m(x1) for m in self.m], 1)))\n",
        "        y2 = self.cv2(x)\n",
        "        return self.cv7(torch.cat((y1, y2), dim=1))\n",
        "\n",
        "\n",
        "class SPPF(nn.Module):\n",
        "    # Spatial Pyramid Pooling - Fast (SPPF) layer by Glenn Jocher\n",
        "    def __init__(self, c1, c2, k=5):  # equivalent to SPP(k=(5, 9, 13))\n",
        "        super().__init__()\n",
        "        c_ = c1 // 2  # hidden channels\n",
        "        self.cv1 = Conv(c1, c_, 1, 1)\n",
        "        self.cv2 = Conv(c_ * 4, c2, 1, 1)\n",
        "        self.m = nn.MaxPool2d(kernel_size=k, stride=1, padding=k // 2)\n",
        "        # self.m = SoftPool2d(kernel_size=k, stride=1, padding=k // 2)\n",
        "\n",
        "    def forward(self, x):\n",
        "        x = self.cv1(x)\n",
        "        with warnings.catch_warnings():\n",
        "            warnings.simplefilter('ignore')  # suppress torch 1.9.0 max_pool2d() warning\n",
        "            y1 = self.m(x)\n",
        "            y2 = self.m(y1)\n",
        "            return self.cv2(torch.cat((x, y1, y2, self.m(y2)), 1))\n",
        "\n",
        "\n",
        "import torch.nn.functional as F\n",
        "from torch.nn.modules.utils import _pair\n",
        "\n",
        "\n",
        "class ReOrg(nn.Module):\n",
        "    # yolo\n",
        "    def __init__(self):\n",
        "        super(ReOrg, self).__init__()\n",
        "\n",
        "    def forward(self, x):  # x(b,c,w,h) -> y(b,4c,w/2,h/2)\n",
        "        return torch.cat([x[..., ::2, ::2], x[..., 1::2, ::2], x[..., ::2, 1::2], x[..., 1::2, 1::2]], 1)\n",
        "\n",
        "\n",
        "class Contract(nn.Module):\n",
        "    # Contract width-height into channels, i.e. x(1,64,80,80) to x(1,256,40,40)\n",
        "    def __init__(self, gain=2):\n",
        "        super().__init__()\n",
        "        self.gain = gain\n",
        "\n",
        "    def forward(self, x):\n",
        "        b, c, h, w = x.size()  # assert (h / s == 0) and (W / s == 0), 'Indivisible gain'\n",
        "        s = self.gain\n",
        "        x = x.view(b, c, h // s, s, w // s, s)  # x(1,64,40,2,40,2)\n",
        "        x = x.permute(0, 3, 5, 1, 2, 4).contiguous()  # x(1,2,2,64,40,40)\n",
        "        return x.view(b, c * s * s, h // s, w // s)  # x(1,256,40,40)\n",
        "\n",
        "\n",
        "class Expand(nn.Module):\n",
        "    # Expand channels into width-height, i.e. x(1,64,80,80) to x(1,16,160,160)\n",
        "    def __init__(self, gain=2):\n",
        "        super().__init__()\n",
        "        self.gain = gain\n",
        "\n",
        "    def forward(self, x):\n",
        "        b, c, h, w = x.size()  # assert C / s ** 2 == 0, 'Indivisible gain'\n",
        "        s = self.gain\n",
        "        x = x.view(b, s, s, c // s ** 2, h, w)  # x(1,2,2,16,80,80)\n",
        "        x = x.permute(0, 3, 4, 1, 5, 2).contiguous()  # x(1,16,80,2,80,2)\n",
        "        return x.view(b, c // s ** 2, h * s, w * s)  # x(1,16,160,160)\n",
        "\n",
        "\n",
        "class Concat(nn.Module):\n",
        "    # Concatenate a list of tensors along dimension\n",
        "    def __init__(self, dimension=1):\n",
        "        super().__init__()\n",
        "        self.d = dimension\n",
        "\n",
        "    def forward(self, x):\n",
        "        return torch.cat(x, self.d)\n",
        "\n",
        "\n",
        "class Shortcut(nn.Module):\n",
        "    def __init__(self, dimension=0):\n",
        "        super(Shortcut, self).__init__()\n",
        "        self.d = dimension\n",
        "\n",
        "    def forward(self, x):\n",
        "        return x[0]+x[1]\n",
        "\n",
        "\n",
        "class Silence(nn.Module):\n",
        "    def __init__(self):\n",
        "        super(Silence, self).__init__()\n",
        "    def forward(self, x):\n",
        "        return x\n",
        "\n",
        "\n",
        "##### GELAN #####\n",
        "\n",
        "class SPPELAN(nn.Module):\n",
        "    # spp-elan\n",
        "    def __init__(self, c1, c2, c3):  # ch_in, ch_out, number, shortcut, groups, expansion\n",
        "        super().__init__()\n",
        "        self.c = c3\n",
        "        self.cv1 = Conv(c1, c3, 1, 1)\n",
        "        self.cv2 = SP(5)\n",
        "        self.cv3 = SP(5)\n",
        "        self.cv4 = SP(5)\n",
        "        self.cv5 = Conv(4*c3, c2, 1, 1)\n",
        "\n",
        "    def forward(self, x):\n",
        "        y = [self.cv1(x)]\n",
        "        y.extend(m(y[-1]) for m in [self.cv2, self.cv3, self.cv4])\n",
        "        return self.cv5(torch.cat(y, 1))\n",
        "\n",
        "\n",
        "class ELAN1(nn.Module):\n",
        "\n",
        "    def __init__(self, c1, c2, c3, c4):  # ch_in, ch_out, number, shortcut, groups, expansion\n",
        "        super().__init__()\n",
        "        self.c = c3//2\n",
        "        self.cv1 = Conv(c1, c3, 1, 1)\n",
        "        self.cv2 = Conv(c3//2, c4, 3, 1)\n",
        "        self.cv3 = Conv(c4, c4, 3, 1)\n",
        "        self.cv4 = Conv(c3+(2*c4), c2, 1, 1)\n",
        "\n",
        "    def forward(self, x):\n",
        "        y = list(self.cv1(x).chunk(2, 1))\n",
        "        y.extend(m(y[-1]) for m in [self.cv2, self.cv3])\n",
        "        return self.cv4(torch.cat(y, 1))\n",
        "\n",
        "    def forward_split(self, x):\n",
        "        y = list(self.cv1(x).split((self.c, self.c), 1))\n",
        "        y.extend(m(y[-1]) for m in [self.cv2, self.cv3])\n",
        "        return self.cv4(torch.cat(y, 1))\n",
        "\n",
        "\n",
        "class RepNCSPELAN4(nn.Module):\n",
        "    # csp-elan\n",
        "    def __init__(self, c1, c2, c3, c4, c5=1):  # ch_in, ch_out, number, shortcut, groups, expansion\n",
        "        super().__init__()\n",
        "        self.c = c3//2\n",
        "        self.cv1 = Conv(c1, c3, 1, 1)\n",
        "        self.cv2 = nn.Sequential(RepNCSP(c3//2, c4, c5), Conv(c4, c4, 3, 1))\n",
        "        self.cv3 = nn.Sequential(RepNCSP(c4, c4, c5), Conv(c4, c4, 3, 1))\n",
        "        self.cv4 = Conv(c3+(2*c4), c2, 1, 1)\n",
        "\n",
        "    def forward(self, x):\n",
        "        y = list(self.cv1(x).chunk(2, 1))\n",
        "        y.extend((m(y[-1])) for m in [self.cv2, self.cv3])\n",
        "        return self.cv4(torch.cat(y, 1))\n",
        "\n",
        "    def forward_split(self, x):\n",
        "        y = list(self.cv1(x).split((self.c, self.c), 1))\n",
        "        y.extend(m(y[-1]) for m in [self.cv2, self.cv3])\n",
        "        return self.cv4(torch.cat(y, 1))\n",
        "\n",
        "#################\n",
        "\n",
        "\n",
        "##### YOLOR #####\n",
        "\n",
        "class ImplicitA(nn.Module):\n",
        "    def __init__(self, channel):\n",
        "        super(ImplicitA, self).__init__()\n",
        "        self.channel = channel\n",
        "        self.implicit = nn.Parameter(torch.zeros(1, channel, 1, 1))\n",
        "        nn.init.normal_(self.implicit, std=.02)\n",
        "\n",
        "    def forward(self, x):\n",
        "        return self.implicit + x\n",
        "\n",
        "\n",
        "class ImplicitM(nn.Module):\n",
        "    def __init__(self, channel):\n",
        "        super(ImplicitM, self).__init__()\n",
        "        self.channel = channel\n",
        "        self.implicit = nn.Parameter(torch.ones(1, channel, 1, 1))\n",
        "        nn.init.normal_(self.implicit, mean=1., std=.02)\n",
        "\n",
        "    def forward(self, x):\n",
        "        return self.implicit * x\n",
        "\n",
        "#################\n",
        "\n",
        "\n",
        "##### CBNet #####\n",
        "\n",
        "class CBLinear(nn.Module):\n",
        "    def __init__(self, c1, c2s, k=1, s=1, p=None, g=1):  # ch_in, ch_outs, kernel, stride, padding, groups\n",
        "        super(CBLinear, self).__init__()\n",
        "        self.c2s = c2s\n",
        "        self.conv = nn.Conv2d(c1, sum(c2s), k, s, autopad(k, p), groups=g, bias=True)\n",
        "\n",
        "    def forward(self, x):\n",
        "        outs = self.conv(x).split(self.c2s, dim=1)\n",
        "        return outs\n",
        "\n",
        "class CBFuse(nn.Module):\n",
        "    def __init__(self, idx):\n",
        "        super(CBFuse, self).__init__()\n",
        "        self.idx = idx\n",
        "\n",
        "    def forward(self, xs):\n",
        "        target_size = xs[-1].shape[2:]\n",
        "        res = [F.interpolate(x[self.idx[i]], size=target_size, mode='nearest') for i, x in enumerate(xs[:-1])]\n",
        "        out = torch.sum(torch.stack(res + xs[-1:]), dim=0)\n",
        "        return out\n",
        "\n",
        "#################"
      ]
    },
    {
      "cell_type": "code",
      "execution_count": 46,
      "metadata": {
        "id": "aa8tIQ9fxsJx"
      },
      "outputs": [],
      "source": []
    },
    {
      "cell_type": "markdown",
      "metadata": {
        "id": "5Hq7qctpt3eX"
      },
      "source": [
        "### <font color = aqua>Simulated Data"
      ]
    },
    {
      "cell_type": "code",
      "execution_count": 47,
      "metadata": {
        "colab": {
          "base_uri": "https://localhost:8080/"
        },
        "id": "kwQDB9mIt3eX",
        "outputId": "5dea3ea9-9a1b-46c6-e385-1926f8b57d2e"
      },
      "outputs": [
        {
          "name": "stdout",
          "output_type": "stream",
          "text": [
            "torch.Size([1, 3, 64, 64])\n"
          ]
        }
      ],
      "source": [
        "# input:[batch_size, channels, height, width]\n",
        "batch_size = 1\n",
        "channels = 3\n",
        "height, width = 640, 640\n",
        "# data = torch.arange(1, 1 + (batch_size * channels * height * width), dtype=torch.float32).reshape(batch_size, channels, height, width)\n",
        "data = cv2.imread('/content/drive/MyDrive/yolov9-architecture.png')\n",
        "data = cv2.resize(data,(64, 64))\n",
        "data = torch.tensor(data, dtype=torch.float32)\n",
        "data = data.permute(2, 0, 1)\n",
        "data = data / 255.0\n",
        "\n",
        "# 添加 batch 维度，变成 [1, 3, 64, 64]\n",
        "data = data.unsqueeze(0)\n",
        "print(data.shape)\n",
        "# print(data)\n",
        "\n",
        "\n",
        "batch_size = data.shape[0]\n",
        "channels = data.shape[1]\n",
        "height = data.shape[2]\n",
        "width = data.shape[3]\n",
        "import numpy as np\n",
        "import matplotlib.pyplot as plt\n",
        "import torch\n",
        "import matplotlib.pyplot as plt\n",
        "import numpy as np\n",
        "\n",
        "def show_images(image_tensor, images_per_row=10):\n",
        "    # Squeeze the batch dimension (1) if present, resulting in [C, H, W]\n",
        "    image_tensor = image_tensor.squeeze(0)\n",
        "\n",
        "    # Check if we have a batch of images (i.e., more than one channel)\n",
        "    num_images = image_tensor.shape[0]  # Number of images (or channels)\n",
        "\n",
        "    # Handle if there are multiple channels (e.g., RGB, or more)\n",
        "    # If it's a multi-channel image, we'll need to separate or extract them\n",
        "    if image_tensor.ndimension() == 3:\n",
        "        # If we have a 3D tensor like [num_images, height, width], assume grayscale\n",
        "        images = image_tensor\n",
        "    else:\n",
        "        # If we have a 4D tensor, e.g., [batch_size, num_images, height, width], squeeze first\n",
        "        images = image_tensor\n",
        "\n",
        "    # Calculate grid size\n",
        "    num_rows = (num_images + images_per_row - 1) // images_per_row  # Ceiling division\n",
        "\n",
        "    # Create a figure to display images\n",
        "    fig, axes = plt.subplots(num_rows, images_per_row, figsize=(images_per_row * 2, num_rows * 2))\n",
        "    axes = axes.flatten()  # Flatten the 2D grid of axes to easily index them\n",
        "\n",
        "    # Display each image in the grid\n",
        "    for i in range(num_images):\n",
        "        ax = axes[i]\n",
        "        img = images[i].cpu().numpy()\n",
        "\n",
        "        if img.ndim == 2:  # Grayscale\n",
        "            ax.imshow(img, cmap='gray')\n",
        "        elif img.ndim == 3 and img.shape[0] == 3:  # RGB\n",
        "            img = img.transpose(1, 2, 0)  # Convert to HWC\n",
        "            ax.imshow(img)\n",
        "\n",
        "        ax.axis('off')  # Hide axis\n",
        "\n",
        "    # Hide any remaining unused axes\n",
        "    for j in range(num_images, len(axes)):\n",
        "        axes[j].axis('off')\n",
        "\n",
        "    # Adjust layout and show the grid\n",
        "    plt.tight_layout()\n",
        "    plt.show()\n",
        "\n",
        "# Example usage:\n",
        "# Assume image_tensor is of shape [1, 20, 640, 640] (which can be more than 20 images/channels)\n"
      ]
    },
    {
      "cell_type": "markdown",
      "metadata": {
        "id": "HFL0zqHKt3eX"
      },
      "source": [
        "### <font color = aqua>Silence"
      ]
    },
    {
      "cell_type": "code",
      "execution_count": 48,
      "metadata": {
        "colab": {
          "base_uri": "https://localhost:8080/",
          "height": 141
        },
        "id": "_gz7oHXrt3eX",
        "outputId": "bcd4967a-5c5a-40de-b2ec-0d4f3fbf67cf"
      },
      "outputs": [
        {
          "name": "stdout",
          "output_type": "stream",
          "text": [
            "torch.Size([1, 3, 64, 64])\n"
          ]
        },
        {
          "data": {
            "image/png": "[encoded data removed]",
            "text/plain": [
              "<Figure size 2000x200 with 10 Axes>"
            ]
          },
          "metadata": {},
          "output_type": "display_data"
        }
      ],
      "source": [
        "class Silence(nn.Module):\n",
        "    def __init__(self):\n",
        "        super(Silence, self).__init__()\n",
        "    def forward(self, x):\n",
        "        return x\n",
        "\n",
        "silence = Silence()\n",
        "data = silence(data)\n",
        "print(data.shape) # [1, 3, 8, 8]\n",
        "# print(data)\n",
        "show_images(data)"
      ]
    },
    {
      "cell_type": "code",
      "execution_count": 49,
      "metadata": {
        "colab": {
          "base_uri": "https://localhost:8080/"
        },
        "id": "DmbgjpDFDX6r",
        "outputId": "f56c1a27-9970-4cfe-c6f5-6ece797ec383"
      },
      "outputs": [
        {
          "name": "stdout",
          "output_type": "stream",
          "text": [
            "Drive already mounted at /content/drive; to attempt to forcibly remount, call drive.mount(\"/content/drive\", force_remount=True).\n"
          ]
        }
      ],
      "source": [
        "from google.colab import drive\n",
        "drive.mount('/content/drive')"
      ]
    },
    {
      "cell_type": "markdown",
      "metadata": {
        "id": "6uD63Gi-t3eY"
      },
      "source": [
        "### <font color = aqua>Conv [64, 3, 2]    "
      ]
    },
    {
      "cell_type": "code",
      "execution_count": 50,
      "metadata": {
        "colab": {
          "base_uri": "https://localhost:8080/"
        },
        "id": "-ozqV8jrt3eY",
        "outputId": "0044595b-e431-44df-9534-62ed6239bee9"
      },
      "outputs": [
        {
          "name": "stdout",
          "output_type": "stream",
          "text": [
            "torch.Size([1, 64, 32, 32])\n"
          ]
        }
      ],
      "source": [
        "def autopad(k, p=None, d=1):  # kernel, padding, dilation\n",
        "    # Pad to 'same' shape outputs\n",
        "    if d > 1:\n",
        "        k = d * (k - 1) + 1 if isinstance(k, int) else [d * (x - 1) + 1 for x in k]  # actual kernel-size\n",
        "    if p is None:\n",
        "        p = k // 2 if isinstance(k, int) else [x // 2 for x in k]  # auto-pad\n",
        "    return p\n",
        "class Conv(nn.Module):  # Standard convolution with args(channel_in, channel_out, kernel, stride, padding, groups, dilation, activation)\n",
        "    default_act = nn.SiLU()  # default activation\n",
        "\n",
        "    def __init__(self, c1, c2, k=1, s=1, p=None, g=1, d=1, act=True):\n",
        "        super().__init__()\n",
        "        self.conv = nn.Conv2d(c1, c2, k, s, autopad(k, p, d), groups=g, dilation=d, bias=False)\n",
        "        self.bn = nn.BatchNorm2d(c2)\n",
        "        self.act = self.default_act if act is True else act if isinstance(act, nn.Module) else nn.Identity()\n",
        "\n",
        "    def forward(self, x):\n",
        "        return self.act(self.bn(self.conv(x)))\n",
        "\n",
        "    def forward_fuse(self, x):\n",
        "        return self.act(self.conv(x))\n",
        "\n",
        "    #-----------Extra------------\n",
        "    def __call__(self, x):\n",
        "        return self.forward(x)\n",
        "\n",
        "conv = Conv(c1=channels, c2=64, k=3, s=2)\n",
        "data = conv(data)\n",
        "print(data.shape)\n",
        "# print(data)\n",
        "\n",
        "batch_size = data.shape[0]\n",
        "channels = data.shape[1]\n",
        "height = data.shape[2]\n",
        "width = data.shape[3]"
      ]
    },
    {
      "cell_type": "code",
      "execution_count": 51,
      "metadata": {
        "colab": {
          "base_uri": "https://localhost:8080/"
        },
        "id": "_EI8J9mluTFY",
        "outputId": "3e63f26c-d186-443e-b0be-192e1f957c77"
      },
      "outputs": [
        {
          "name": "stdout",
          "output_type": "stream",
          "text": [
            "torch.Size([1, 128, 16, 16])\n"
          ]
        }
      ],
      "source": [
        "conv = Conv(channels,128,3,2)\n",
        "data = conv(data)\n",
        "print(data.shape)\n",
        "channels = data.shape[1]"
      ]
    },
    {
      "cell_type": "code",
      "execution_count": 52,
      "metadata": {
        "colab": {
          "base_uri": "https://localhost:8080/"
        },
        "id": "DM87cmApu5tQ",
        "outputId": "57a18bfd-f01c-4185-adc5-6a7b4a1058c6"
      },
      "outputs": [
        {
          "name": "stdout",
          "output_type": "stream",
          "text": [
            "torch.Size([1, 256, 16, 16])\n"
          ]
        }
      ],
      "source": [
        "model = RepNCSPELAN4(channels,256,128,64,1)\n",
        "data = model(data)\n",
        "print(data.shape)\n",
        "channels = data.shape[1]"
      ]
    },
    {
      "cell_type": "code",
      "execution_count": 53,
      "metadata": {
        "colab": {
          "base_uri": "https://localhost:8080/"
        },
        "id": "uDGkpWr4wHmR",
        "outputId": "7f8780ea-e57c-4e0a-ba8e-9a94132f0801"
      },
      "outputs": [
        {
          "name": "stdout",
          "output_type": "stream",
          "text": [
            "torch.Size([1, 256, 8, 8])\n"
          ]
        }
      ],
      "source": [
        "model = ADown(channels,256)\n",
        "data = model(data)\n",
        "print(data.shape)\n",
        "channels = data.shape[1]"
      ]
    },
    {
      "cell_type": "code",
      "execution_count": 54,
      "metadata": {
        "colab": {
          "base_uri": "https://localhost:8080/"
        },
        "id": "_snmdAG5wXLQ",
        "outputId": "610f1ac6-11ee-416f-aef8-12c58df8e493"
      },
      "outputs": [
        {
          "name": "stdout",
          "output_type": "stream",
          "text": [
            "torch.Size([1, 512, 8, 8])\n"
          ]
        }
      ],
      "source": [
        "model = RepNCSPELAN4(channels,512,256,128,1)\n",
        "data = model(data)\n",
        "print(data.shape)\n",
        "channels = data.shape[1]"
      ]
    },
    {
      "cell_type": "code",
      "execution_count": 55,
      "metadata": {
        "colab": {
          "base_uri": "https://localhost:8080/"
        },
        "id": "4vdTvdY_weGY",
        "outputId": "0a0f5fbb-7a2b-44f5-a966-0750baa2f633"
      },
      "outputs": [
        {
          "name": "stdout",
          "output_type": "stream",
          "text": [
            "torch.Size([1, 512, 4, 4])\n"
          ]
        }
      ],
      "source": [
        "model = ADown(channels,512)\n",
        "data = model(data)\n",
        "print(data.shape)\n",
        "channels = data.shape[1]"
      ]
    },
    {
      "cell_type": "code",
      "execution_count": 56,
      "metadata": {
        "colab": {
          "base_uri": "https://localhost:8080/"
        },
        "id": "4dUfLi23whAA",
        "outputId": "2950dfa1-5711-4729-e4fb-312f9d08d2ca"
      },
      "outputs": [
        {
          "name": "stdout",
          "output_type": "stream",
          "text": [
            "torch.Size([1, 512, 4, 4])\n"
          ]
        }
      ],
      "source": [
        "model = RepNCSPELAN4(channels,512,512,256,1)\n",
        "data = model(data)\n",
        "print(data.shape)\n",
        "channels = data.shape[1]"
      ]
    },
    {
      "cell_type": "code",
      "execution_count": 57,
      "metadata": {
        "colab": {
          "base_uri": "https://localhost:8080/"
        },
        "id": "W8phATpGwn2w",
        "outputId": "4e125d39-519f-4bcf-a4ab-c0bb87109793"
      },
      "outputs": [
        {
          "name": "stdout",
          "output_type": "stream",
          "text": [
            "torch.Size([1, 512, 2, 2])\n"
          ]
        }
      ],
      "source": [
        "model = ADown(channels,512)\n",
        "data = model(data)\n",
        "print(data.shape)\n",
        "channels = data.shape[1]"
      ]
    },
    {
      "cell_type": "code",
      "execution_count": 58,
      "metadata": {
        "colab": {
          "base_uri": "https://localhost:8080/"
        },
        "id": "Nl2BJbCbwqgA",
        "outputId": "c4110d88-9f6b-44ff-b803-4137c749398a"
      },
      "outputs": [
        {
          "name": "stdout",
          "output_type": "stream",
          "text": [
            "torch.Size([1, 512, 2, 2])\n"
          ]
        }
      ],
      "source": [
        "model = RepNCSPELAN4(channels,512,512,256,1)\n",
        "data = model(data)\n",
        "print(data.shape)\n",
        "channels = data.shape[1]"
      ]
    },
    {
      "cell_type": "code",
      "execution_count": 59,
      "metadata": {
        "colab": {
          "base_uri": "https://localhost:8080/"
        },
        "id": "rL6kdObGw4fw",
        "outputId": "b8899d8e-381b-4d94-f09b-7dcc2a551ac3"
      },
      "outputs": [
        {
          "name": "stdout",
          "output_type": "stream",
          "text": [
            "torch.Size([1, 512, 2, 2])\n"
          ]
        }
      ],
      "source": [
        "model = SPPELAN(channels,512,256)\n",
        "data = model(data)\n",
        "print(data.shape)\n",
        "channels = data.shape[1]"
      ]
    },
    {
      "cell_type": "code",
      "execution_count": 60,
      "metadata": {
        "colab": {
          "base_uri": "https://localhost:8080/"
        },
        "id": "fuOZ7Y0hxaJS",
        "outputId": "7b5c05a9-a31e-442c-b450-b983efbc3874"
      },
      "outputs": [
        {
          "name": "stdout",
          "output_type": "stream",
          "text": [
            "torch.Size([1, 512, 4, 4])\n"
          ]
        }
      ],
      "source": [
        "model = nn.Upsample(scale_factor=2, mode='nearest')\n",
        "data = model(data)\n",
        "print(data.shape)\n",
        "channels = data.shape[1]"
      ]
    }
  ],
  "metadata": {
    "colab": {
      "provenance": []
    },
    "kernelspec": {
      "display_name": "yolov9",
      "language": "python",
      "name": "python3"
    },
    "language_info": {
      "codemirror_mode": {
        "name": "ipython",
        "version": 3
      },
      "file_extension": ".py",
      "mimetype": "text/x-python",
      "name": "python",
      "nbconvert_exporter": "python",
      "pygments_lexer": "ipython3",
      "version": "3.10.15"
    }
  },
  "nbformat": 4,
  "nbformat_minor": 0
}
