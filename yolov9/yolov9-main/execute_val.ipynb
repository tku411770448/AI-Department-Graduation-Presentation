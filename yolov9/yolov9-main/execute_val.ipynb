{
 "cells": [
  {
   "cell_type": "markdown",
   "metadata": {},
   "source": [
    "# *<font face =微軟黑體 color = aqua>Val</font>*  "
   ]
  },
  {
   "cell_type": "code",
   "execution_count": 1,
   "metadata": {},
   "outputs": [
    {
     "name": "stdout",
     "output_type": "stream",
     "text": [
      "True\n",
      "11.8\n"
     ]
    }
   ],
   "source": [
    "import torch\n",
    "\n",
    "print(torch.cuda.is_available()) \n",
    "print(torch.version.cuda) "
   ]
  },
  {
   "cell_type": "code",
   "execution_count": 2,
   "metadata": {},
   "outputs": [],
   "source": [
    "# PYTORCH_CUDA_ALLOC_CONF 來減少記憶體碎片。這樣可以讓 PyTorch 的顯存管理更有效率\n",
    "import os\n",
    "os.environ[\"PYTORCH_CUDA_ALLOC_CONF\"] = \"expandable_segments:True\""
   ]
  },
  {
   "cell_type": "markdown",
   "metadata": {},
   "source": [
    "## *<font face =微軟黑體 color = aqua>val.py</font>* "
   ]
  },
  {
   "cell_type": "code",
   "execution_count": null,
   "metadata": {},
   "outputs": [
    {
     "name": "stderr",
     "output_type": "stream",
     "text": [
      "\u001b[34m\u001b[1mval: \u001b[0mdata=data\\coco.yaml, weights=[\"'C:\\\\\\\\Users\\\\\\\\PZJ\\\\\\\\Desktop\\\\\\\\yolov9\\\\\\\\yolov9-main_measure\\\\\\\\yolov9-main\\\\\\\\runs\\\\\\\\train\\\\\\\\yolov9-c4\\\\\\\\weights\\\\\\\\best.pt'\"], batch_size=32, imgsz=640, conf_thres=0.001, iou_thres=0.7, max_det=300, task=val, device=0, workers=8, single_cls=False, augment=False, verbose=False, save_txt=False, save_hybrid=False, save_conf=False, save_json=True, project=runs\\val, name=exp, exist_ok=False, half=False, dnn=False, min_items=0\n",
      "YOLO  2024-11-10 Python-3.8.20 torch-2.4.1+cu118 CUDA:0 (NVIDIA GeForce RTX 4050 Laptop GPU, 6140MiB)\n",
      "\n",
      "Traceback (most recent call last):\n",
      "  File \"val.py\", line 389, in <module>\n",
      "    main(opt)\n",
      "  File \"val.py\", line 362, in main\n",
      "    run(**vars(opt))\n",
      "  File \"c:\\Users\\PZJ\\anaconda3\\envs\\torch\\lib\\site-packages\\torch\\utils\\_contextlib.py\", line 116, in decorate_context\n",
      "    return func(*args, **kwargs)\n",
      "  File \"val.py\", line 122, in run\n",
      "    model = DetectMultiBackend(weights, device=device, dnn=dnn, data=data, fp16=half)\n",
      "  File \"c:\\Users\\PZJ\\Desktop\\yolov9\\yolov9-main_measure\\yolov9-main\\models\\common.py\", line 696, in __init__\n",
      "    pt, jit, onnx, onnx_end2end, xml, engine, coreml, saved_model, pb, tflite, edgetpu, tfjs, paddle, triton = self._model_type(w)\n",
      "  File \"c:\\Users\\PZJ\\Desktop\\yolov9\\yolov9-main_measure\\yolov9-main\\models\\common.py\", line 967, in _model_type\n",
      "    check_suffix(p, sf)  # checks\n",
      "  File \"c:\\Users\\PZJ\\Desktop\\yolov9\\yolov9-main_measure\\yolov9-main\\utils\\general.py\", line 447, in check_suffix\n",
      "    assert s in suffix, f\"{msg}{f} acceptable suffix is {suffix}\"\n",
      "AssertionError: 'C:\\\\Users\\\\PZJ\\\\Desktop\\\\yolov9\\\\yolov9-main_measure\\\\yolov9-main\\\\runs\\\\train\\\\yolov9-c4\\\\weights\\\\best.pt' acceptable suffix is ['.pt', '.torchscript', '.onnx', '_end2end.onnx', '_openvino_model', '.engine', '.mlmodel', '_saved_model', '.pb', '.tflite', '_edgetpu.tflite', '_web_model', '_paddle_model']\n"
     ]
    }
   ],
   "source": [
    "!python val.py --weights 'C:\\Users\\PZJ\\Desktop\\yolov9\\yolov9-main_measure\\yolov9-main\\runs\\train\\yolov9-c4\\weights\\best.pt' --device 0"
   ]
  },
  {
   "cell_type": "code",
   "execution_count": null,
   "metadata": {},
   "outputs": [
    {
     "name": "stderr",
     "output_type": "stream",
     "text": [
      "\u001b[34m\u001b[1mval: \u001b[0mdata=data/coco.yaml, weights=[\"'yolov9-main_measure\\\\yolov9-main\\\\runs\\\\train\\\\yolov9-c4\\\\weights\\\\best.pt'\"], batch_size=8, imgsz=640, conf_thres=0.001, iou_thres=0.7, max_det=300, task=val, device=0, workers=8, single_cls=False, augment=False, verbose=False, save_txt=False, save_hybrid=False, save_conf=False, save_json=True, project=runs\\val, name=yolov9_c4_640_val, exist_ok=False, half=False, dnn=False, min_items=0\n",
      "YOLO  2024-11-10 Python-3.8.20 torch-2.4.1+cu118 CUDA:0 (NVIDIA GeForce RTX 4050 Laptop GPU, 6140MiB)\n",
      "\n",
      "Traceback (most recent call last):\n",
      "  File \"val.py\", line 389, in <module>\n",
      "    main(opt)\n",
      "  File \"val.py\", line 362, in main\n",
      "    run(**vars(opt))\n",
      "  File \"c:\\Users\\PZJ\\anaconda3\\envs\\torch\\lib\\site-packages\\torch\\utils\\_contextlib.py\", line 116, in decorate_context\n",
      "    return func(*args, **kwargs)\n",
      "  File \"val.py\", line 122, in run\n",
      "    model = DetectMultiBackend(weights, device=device, dnn=dnn, data=data, fp16=half)\n",
      "  File \"c:\\Users\\PZJ\\Desktop\\yolov9\\yolov9-main_measure\\yolov9-main\\models\\common.py\", line 696, in __init__\n",
      "    pt, jit, onnx, onnx_end2end, xml, engine, coreml, saved_model, pb, tflite, edgetpu, tfjs, paddle, triton = self._model_type(w)\n",
      "  File \"c:\\Users\\PZJ\\Desktop\\yolov9\\yolov9-main_measure\\yolov9-main\\models\\common.py\", line 967, in _model_type\n",
      "    check_suffix(p, sf)  # checks\n",
      "  File \"c:\\Users\\PZJ\\Desktop\\yolov9\\yolov9-main_measure\\yolov9-main\\utils\\general.py\", line 447, in check_suffix\n",
      "    assert s in suffix, f\"{msg}{f} acceptable suffix is {suffix}\"\n",
      "AssertionError: 'yolov9-main_measure\\yolov9-main\\runs\\train\\yolov9-c4\\weights\\best.pt' acceptable suffix is ['.pt', '.torchscript', '.onnx', '_end2end.onnx', '_openvino_model', '.engine', '.mlmodel', '_saved_model', '.pb', '.tflite', '_edgetpu.tflite', '_web_model', '_paddle_model']\n"
     ]
    }
   ],
   "source": [
    "!python val.py --data data/coco.yaml --img 640 --batch 8 --conf 0.001 --iou 0.7 --device 0 --weights 'C:\\Users\\PZJ\\Desktop\\yolov9\\yolov9-main_measure\\yolov9-main\\runs\\train\\yolov9-c4\\weights\\best.pt' --save-json --name yolov9_c4_640_val"
   ]
  },
  {
   "cell_type": "markdown",
   "metadata": {},
   "source": [
    "## *<font face =微軟黑體 color = aqua>val_dual.py</font>* "
   ]
  },
  {
   "cell_type": "code",
   "execution_count": null,
   "metadata": {},
   "outputs": [],
   "source": [
    "!python val_dual.py --data data/coco.yaml --img 640 --batch 8 --conf 0.001 --iou 0.7 --device 0 --weights './yolov9-c.pt' --save-json --name yolov9_c_640_val"
   ]
  },
  {
   "cell_type": "markdown",
   "metadata": {},
   "source": [
    "## *<font face =微軟黑體 color = aqua>val_triple.py</font>* "
   ]
  },
  {
   "cell_type": "code",
   "execution_count": null,
   "metadata": {},
   "outputs": [],
   "source": [
    "!python val_triple.py --data data/coco.yaml --img 640 --batch 8 --conf 0.001 --iou 0.7 --device 0 --weights './yolov9-c.pt' --save-json --name yolov9_c_640_val"
   ]
  }
 ],
 "metadata": {
  "kernelspec": {
   "display_name": "torch",
   "language": "python",
   "name": "python3"
  },
  "language_info": {
   "codemirror_mode": {
    "name": "ipython",
    "version": 3
   },
   "file_extension": ".py",
   "mimetype": "text/x-python",
   "name": "python",
   "nbconvert_exporter": "python",
   "pygments_lexer": "ipython3",
   "version": "3.8.20"
  }
 },
 "nbformat": 4,
 "nbformat_minor": 2
}
